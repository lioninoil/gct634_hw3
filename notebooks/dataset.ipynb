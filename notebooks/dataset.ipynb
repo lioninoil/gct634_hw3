{
 "cells": [
  {
   "cell_type": "code",
   "execution_count": 1,
   "metadata": {},
   "outputs": [],
   "source": [
    "import sys\n",
    "sys.path.append('../')\n",
    "\n",
    "import matplotlib.pyplot as plt\n",
    "%matplotlib inline\n",
    "\n",
    "from dataset import MAESTRO_small\n",
    "from constants import HOP_SIZE"
   ]
  },
  {
   "cell_type": "markdown",
   "metadata": {},
   "source": [
    "### Dataset\n",
    "\n",
    "MAESTRO_small is dataset class for piano transcription. You can specify the path of the maestro dataset through *path*. *groups* indicates splits. you can select some of belows and pass it by list of strings.\n",
    "```\n",
    ">>train_set.available_groups()\n",
    "['train', 'validation', 'test', 'debug']\n",
    "```\n",
    "when you call the class, it will read all files(audio, midi) and parse them. Here, we will use 'debug' dataset, which is subset of 'train' dataset (first 10 pieces)"
   ]
  },
  {
   "cell_type": "code",
   "execution_count": 2,
   "metadata": {},
   "outputs": [
    {
     "name": "stderr",
     "output_type": "stream",
     "text": [
      "Loading group debug:   0%|          | 0/10 [00:00<?, ?it/s]"
     ]
    },
    {
     "name": "stdout",
     "output_type": "stream",
     "text": [
      "Loading 1 group of MAESTRO_small at ../data\n"
     ]
    },
    {
     "name": "stderr",
     "output_type": "stream",
     "text": [
      "Loading group debug: 100%|██████████| 10/10 [00:03<00:00,  2.95it/s]\n"
     ]
    }
   ],
   "source": [
    "example_dataset = MAESTRO_small(path='../data', groups=['debug'], sequence_length=None, random_sample=True)"
   ]
  },
  {
   "cell_type": "code",
   "execution_count": 3,
   "metadata": {},
   "outputs": [
    {
     "data": {
      "text/plain": [
       "['train', 'validation', 'test', 'debug']"
      ]
     },
     "execution_count": 3,
     "metadata": {},
     "output_type": "execute_result"
    }
   ],
   "source": [
    "example_dataset.available_groups()"
   ]
  },
  {
   "cell_type": "markdown",
   "metadata": {},
   "source": [
    "### Data types\n",
    "You can treat it as python list. when you call it with index, \\_\\_getitem\\_\\_ fuction will be called.\n",
    "It will returns python dict, which contains file path, normalized audio, and piano rolls.\n",
    "\n",
    "Samplerate of the audio is 16000, and we will use hop_size=512 for mel-spectrogram and pianoroll, resulting framerate=16000/512 == 31.25.\n",
    "\n",
    "In the example below, you length of the audio"
   ]
  },
  {
   "cell_type": "code",
   "execution_count": 4,
   "metadata": {},
   "outputs": [
    {
     "name": "stdout",
     "output_type": "stream",
     "text": [
      "data: {'path': '../data/2004/MIDI-Unprocessed_SMF_12_01_2004_01-05_ORIG_MID--AUDIO_12_R1_2004_08_Track08_wav.flac', 'audio': tensor([-0.0002, -0.0002, -0.0001,  ...,  0.0149,  0.0022, -0.0390]), 'frame': tensor([[0., 0., 0.,  ..., 0., 0., 0.],\n",
      "        [0., 0., 0.,  ..., 0., 0., 0.],\n",
      "        [0., 0., 0.,  ..., 0., 0., 0.],\n",
      "        ...,\n",
      "        [0., 0., 0.,  ..., 0., 0., 0.],\n",
      "        [0., 0., 0.,  ..., 0., 0., 0.],\n",
      "        [0., 0., 0.,  ..., 0., 0., 0.]]), 'onset': tensor([[0., 0., 0.,  ..., 0., 0., 0.],\n",
      "        [0., 0., 0.,  ..., 0., 0., 0.],\n",
      "        [0., 0., 0.,  ..., 0., 0., 0.],\n",
      "        ...,\n",
      "        [0., 0., 0.,  ..., 0., 0., 0.],\n",
      "        [0., 0., 0.,  ..., 0., 0., 0.],\n",
      "        [0., 0., 0.,  ..., 0., 0., 0.]])}\n",
      "audio_shape: torch.Size([5411840])\n",
      "frame_roll_shape: torch.Size([10570, 88])\n",
      "onset_roll_shape: torch.Size([10570, 88])\n",
      "HOP_SIZE(512) x piano_roll length(10570): 5411840\n"
     ]
    }
   ],
   "source": [
    "data = example_dataset[1]\n",
    "print(f'data: {data}')\n",
    "print(f'audio_shape: {data[\"audio\"].shape}')\n",
    "print(f'frame_roll_shape: {data[\"frame\"].shape}')\n",
    "print(f'onset_roll_shape: {data[\"onset\"].shape}')\n",
    "\n",
    "print(f'HOP_SIZE({HOP_SIZE}) x piano_roll length({data[\"frame\"].shape[0]}): {HOP_SIZE*data[\"frame\"].shape[0]}')"
   ]
  },
  {
   "cell_type": "markdown",
   "metadata": {},
   "source": [
    "### Pianoroll\n",
    "Pianoroll is array-like representation of notes.\n",
    "*frame* and *onset* is a tensor, which shape is (*#frames*, *88(pithces)*)  \n",
    "frame indicates ststain of notes, and onsets indicates the attack of the note.\n",
    "Let's suppose there is a piano note of pitch p is pressed at time t1, and released at t2.  \n",
    "Then, frame[t1:t2+1, p] = 1, and onset[t1, p] = 1, and 0 otherwise.\n"
   ]
  },
  {
   "cell_type": "code",
   "execution_count": 5,
   "metadata": {},
   "outputs": [
    {
     "data": {
      "text/plain": [
       "<matplotlib.image.AxesImage at 0x7f1a46039978>"
      ]
     },
     "execution_count": 5,
     "metadata": {},
     "output_type": "execute_result"
    },
    {
     "data": {
      "image/png": "[encoded data removed]",
      "text/plain": [
       "<Figure size 720x576 with 3 Axes>"
      ]
     },
     "metadata": {
      "needs_background": "light"
     },
     "output_type": "display_data"
    }
   ],
   "source": [
    "plt.figure(figsize=(10,8))\n",
    "plt.subplot(311)\n",
    "plt.plot(data['audio'].numpy()[:400*HOP_SIZE])\n",
    "plt.autoscale(enable=True, axis='x', tight=True)\n",
    "plt.subplot(312)\n",
    "plt.imshow(data['frame'].numpy()[:400].T, aspect='auto', origin='bottom')\n",
    "plt.subplot(313)\n",
    "plt.imshow(data['onset'].numpy()[:400].T, aspect='auto', origin='bottom')\n"
   ]
  },
  {
   "cell_type": "markdown",
   "metadata": {},
   "source": [
    "### sequence_length & random_sample\n",
    "If we specify the *sequence_length*, the dataset segments the audio into given sequence. when *random_sample=False*, the first segements will be returned. If *random_sample=True*, random location is selected, and the segment is sampled from that position. We will use this attributes to make our training samples stocastic.\n",
    "\n",
    "if *sequence_length* is not divisible with *HOP_SIZE*, it will be adjusted into proper length by shortening."
   ]
  },
  {
   "cell_type": "code",
   "execution_count": 6,
   "metadata": {},
   "outputs": [
    {
     "name": "stderr",
     "output_type": "stream",
     "text": [
      "Loading group debug:   0%|          | 0/10 [00:00<?, ?it/s]"
     ]
    },
    {
     "name": "stdout",
     "output_type": "stream",
     "text": [
      "Loading 1 group of MAESTRO_small at ../data\n"
     ]
    },
    {
     "name": "stderr",
     "output_type": "stream",
     "text": [
      "Loading group debug: 100%|██████████| 10/10 [00:03<00:00,  2.95it/s]\n"
     ]
    }
   ],
   "source": [
    "example_dataset = MAESTRO_small(path='../data', groups=['debug'], sequence_length=10000, random_sample=True)"
   ]
  },
  {
   "cell_type": "code",
   "execution_count": 7,
   "metadata": {},
   "outputs": [
    {
     "name": "stdout",
     "output_type": "stream",
     "text": [
      "data path: ../data/2004/MIDI-Unprocessed_SMF_12_01_2004_01-05_ORIG_MID--AUDIO_12_R1_2004_08_Track08_wav.flac\n",
      "audio_shape: torch.Size([9728])\n",
      "frame_roll_shape: torch.Size([19, 88])\n",
      "onset_roll_shape: torch.Size([19, 88])\n"
     ]
    }
   ],
   "source": [
    "data = example_dataset[1]\n",
    "print(f'data path: {data[\"path\"]}')\n",
    "print(f'audio_shape: {data[\"audio\"].shape}')\n",
    "print(f'frame_roll_shape: {data[\"frame\"].shape}')\n",
    "print(f'onset_roll_shape: {data[\"onset\"].shape}')"
   ]
  },
  {
   "cell_type": "code",
   "execution_count": null,
   "metadata": {},
   "outputs": [],
   "source": []
  }
 ],
 "metadata": {
  "kernelspec": {
   "display_name": "Python 3",
   "language": "python",
   "name": "python3"
  },
  "language_info": {
   "codemirror_mode": {
    "name": "ipython",
    "version": 3
   },
   "file_extension": ".py",
   "mimetype": "text/x-python",
   "name": "python",
   "nbconvert_exporter": "python",
   "pygments_lexer": "ipython3",
   "version": "3.6.9"
  }
 },
 "nbformat": 4,
 "nbformat_minor": 4
}
